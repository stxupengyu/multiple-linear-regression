{
 "cells": [
  {
   "cell_type": "code",
   "execution_count": 98,
   "metadata": {},
   "outputs": [
    {
     "name": "stderr",
     "output_type": "stream",
     "text": [
      "E:\\anoconda\\envs\\tensorflow\\lib\\site-packages\\pandas\\io\\excel.py:329: FutureWarning: The `sheetname` keyword is deprecated, use `sheet_name` instead\n",
      "  **kwds)\n"
     ]
    },
    {
     "data": {
      "text/html": [
       "<div>\n",
       "<style scoped>\n",
       "    .dataframe tbody tr th:only-of-type {\n",
       "        vertical-align: middle;\n",
       "    }\n",
       "\n",
       "    .dataframe tbody tr th {\n",
       "        vertical-align: top;\n",
       "    }\n",
       "\n",
       "    .dataframe thead th {\n",
       "        text-align: right;\n",
       "    }\n",
       "</style>\n",
       "<table border=\"1\" class=\"dataframe\">\n",
       "  <thead>\n",
       "    <tr style=\"text-align: right;\">\n",
       "      <th></th>\n",
       "      <th>年份</th>\n",
       "      <th>商品房施工面积（万平方米）</th>\n",
       "      <th>商品房竣工面积（万平方米）</th>\n",
       "      <th>房地产开发投资额（亿）</th>\n",
       "      <th>商品住宅销售面积（万平方米）</th>\n",
       "      <th>城镇居民人均可支配收入（元）</th>\n",
       "      <th>城镇化率</th>\n",
       "      <th>GDP（亿元）</th>\n",
       "      <th>利率</th>\n",
       "      <th>预测价格</th>\n",
       "    </tr>\n",
       "  </thead>\n",
       "  <tbody>\n",
       "    <tr>\n",
       "      <th>8</th>\n",
       "      <td>2013</td>\n",
       "      <td>2837.95</td>\n",
       "      <td>264.94</td>\n",
       "      <td>497.66</td>\n",
       "      <td>723.96</td>\n",
       "      <td>46594.000000</td>\n",
       "      <td>0.8875</td>\n",
       "      <td>5490.02</td>\n",
       "      <td>6.400000</td>\n",
       "      <td>9162</td>\n",
       "    </tr>\n",
       "    <tr>\n",
       "      <th>9</th>\n",
       "      <td>2014</td>\n",
       "      <td>3585.66</td>\n",
       "      <td>264.95</td>\n",
       "      <td>588.06</td>\n",
       "      <td>558.74</td>\n",
       "      <td>48669.583333</td>\n",
       "      <td>0.8881</td>\n",
       "      <td>5881.18</td>\n",
       "      <td>6.200000</td>\n",
       "      <td>9783</td>\n",
       "    </tr>\n",
       "    <tr>\n",
       "      <th>10</th>\n",
       "      <td>2015</td>\n",
       "      <td>4553.68</td>\n",
       "      <td>471.02</td>\n",
       "      <td>702.15</td>\n",
       "      <td>556.62</td>\n",
       "      <td>51649.100000</td>\n",
       "      <td>0.8882</td>\n",
       "      <td>6275.06</td>\n",
       "      <td>5.380000</td>\n",
       "      <td>13743</td>\n",
       "    </tr>\n",
       "    <tr>\n",
       "      <th>11</th>\n",
       "      <td>2016</td>\n",
       "      <td>4408.65</td>\n",
       "      <td>232.68</td>\n",
       "      <td>642.76</td>\n",
       "      <td>887.71</td>\n",
       "      <td>54628.616667</td>\n",
       "      <td>0.8914</td>\n",
       "      <td>6827.67</td>\n",
       "      <td>5.872667</td>\n",
       "      <td>16527</td>\n",
       "    </tr>\n",
       "    <tr>\n",
       "      <th>12</th>\n",
       "      <td>2017</td>\n",
       "      <td>4553.68</td>\n",
       "      <td>471.02</td>\n",
       "      <td>702.15</td>\n",
       "      <td>556.62</td>\n",
       "      <td>57608.133333</td>\n",
       "      <td>0.8986</td>\n",
       "      <td>7582.12</td>\n",
       "      <td>5.380000</td>\n",
       "      <td>18964</td>\n",
       "    </tr>\n",
       "  </tbody>\n",
       "</table>\n",
       "</div>"
      ],
      "text/plain": [
       "      年份  商品房施工面积（万平方米）  商品房竣工面积（万平方米）  房地产开发投资额（亿）  商品住宅销售面积（万平方米）  \\\n",
       "8   2013        2837.95         264.94       497.66          723.96   \n",
       "9   2014        3585.66         264.95       588.06          558.74   \n",
       "10  2015        4553.68         471.02       702.15          556.62   \n",
       "11  2016        4408.65         232.68       642.76          887.71   \n",
       "12  2017        4553.68         471.02       702.15          556.62   \n",
       "\n",
       "    城镇居民人均可支配收入（元）    城镇化率  GDP（亿元）        利率   预测价格  \n",
       "8     46594.000000  0.8875  5490.02  6.400000   9162  \n",
       "9     48669.583333  0.8881  5881.18  6.200000   9783  \n",
       "10    51649.100000  0.8882  6275.06  5.380000  13743  \n",
       "11    54628.616667  0.8914  6827.67  5.872667  16527  \n",
       "12    57608.133333  0.8986  7582.12  5.380000  18964  "
      ]
     },
     "execution_count": 98,
     "metadata": {},
     "output_type": "execute_result"
    }
   ],
   "source": [
    "#加载数据\n",
    "import numpy as np\n",
    "import pandas as pd\n",
    "import matplotlib.pyplot as plt\n",
    "from sklearn.linear_model import LinearRegression\n",
    "data=pd.read_excel('data_house.xlsx',sheetname= 'Sheet2')\n",
    "num=8\n",
    "data.tail()"
   ]
  },
  {
   "cell_type": "code",
   "execution_count": 99,
   "metadata": {},
   "outputs": [
    {
     "data": {
      "text/html": [
       "<div>\n",
       "<style scoped>\n",
       "    .dataframe tbody tr th:only-of-type {\n",
       "        vertical-align: middle;\n",
       "    }\n",
       "\n",
       "    .dataframe tbody tr th {\n",
       "        vertical-align: top;\n",
       "    }\n",
       "\n",
       "    .dataframe thead th {\n",
       "        text-align: right;\n",
       "    }\n",
       "</style>\n",
       "<table border=\"1\" class=\"dataframe\">\n",
       "  <thead>\n",
       "    <tr style=\"text-align: right;\">\n",
       "      <th></th>\n",
       "      <th>商品房施工面积（万平方米）</th>\n",
       "      <th>商品房竣工面积（万平方米）</th>\n",
       "      <th>房地产开发投资额（亿）</th>\n",
       "      <th>商品住宅销售面积（万平方米）</th>\n",
       "      <th>城镇居民人均可支配收入（元）</th>\n",
       "      <th>城镇化率</th>\n",
       "      <th>GDP（亿元）</th>\n",
       "      <th>利率</th>\n",
       "      <th>预测价格</th>\n",
       "    </tr>\n",
       "  </thead>\n",
       "  <tbody>\n",
       "    <tr>\n",
       "      <th>8</th>\n",
       "      <td>2837.95</td>\n",
       "      <td>264.94</td>\n",
       "      <td>497.66</td>\n",
       "      <td>723.96</td>\n",
       "      <td>46594.000000</td>\n",
       "      <td>0.8875</td>\n",
       "      <td>5490.02</td>\n",
       "      <td>6.400000</td>\n",
       "      <td>9162</td>\n",
       "    </tr>\n",
       "    <tr>\n",
       "      <th>9</th>\n",
       "      <td>3585.66</td>\n",
       "      <td>264.95</td>\n",
       "      <td>588.06</td>\n",
       "      <td>558.74</td>\n",
       "      <td>48669.583333</td>\n",
       "      <td>0.8881</td>\n",
       "      <td>5881.18</td>\n",
       "      <td>6.200000</td>\n",
       "      <td>9783</td>\n",
       "    </tr>\n",
       "    <tr>\n",
       "      <th>10</th>\n",
       "      <td>4553.68</td>\n",
       "      <td>471.02</td>\n",
       "      <td>702.15</td>\n",
       "      <td>556.62</td>\n",
       "      <td>51649.100000</td>\n",
       "      <td>0.8882</td>\n",
       "      <td>6275.06</td>\n",
       "      <td>5.380000</td>\n",
       "      <td>13743</td>\n",
       "    </tr>\n",
       "    <tr>\n",
       "      <th>11</th>\n",
       "      <td>4408.65</td>\n",
       "      <td>232.68</td>\n",
       "      <td>642.76</td>\n",
       "      <td>887.71</td>\n",
       "      <td>54628.616667</td>\n",
       "      <td>0.8914</td>\n",
       "      <td>6827.67</td>\n",
       "      <td>5.872667</td>\n",
       "      <td>16527</td>\n",
       "    </tr>\n",
       "    <tr>\n",
       "      <th>12</th>\n",
       "      <td>4553.68</td>\n",
       "      <td>471.02</td>\n",
       "      <td>702.15</td>\n",
       "      <td>556.62</td>\n",
       "      <td>57608.133333</td>\n",
       "      <td>0.8986</td>\n",
       "      <td>7582.12</td>\n",
       "      <td>5.380000</td>\n",
       "      <td>18964</td>\n",
       "    </tr>\n",
       "  </tbody>\n",
       "</table>\n",
       "</div>"
      ],
      "text/plain": [
       "    商品房施工面积（万平方米）  商品房竣工面积（万平方米）  房地产开发投资额（亿）  商品住宅销售面积（万平方米）  城镇居民人均可支配收入（元）  \\\n",
       "8         2837.95         264.94       497.66          723.96    46594.000000   \n",
       "9         3585.66         264.95       588.06          558.74    48669.583333   \n",
       "10        4553.68         471.02       702.15          556.62    51649.100000   \n",
       "11        4408.65         232.68       642.76          887.71    54628.616667   \n",
       "12        4553.68         471.02       702.15          556.62    57608.133333   \n",
       "\n",
       "      城镇化率  GDP（亿元）        利率   预测价格  \n",
       "8   0.8875  5490.02  6.400000   9162  \n",
       "9   0.8881  5881.18  6.200000   9783  \n",
       "10  0.8882  6275.06  5.380000  13743  \n",
       "11  0.8914  6827.67  5.872667  16527  \n",
       "12  0.8986  7582.12  5.380000  18964  "
      ]
     },
     "execution_count": 99,
     "metadata": {},
     "output_type": "execute_result"
    }
   ],
   "source": [
    "data1=data.iloc[:,1:]\n",
    "data1.tail()"
   ]
  },
  {
   "cell_type": "code",
   "execution_count": 100,
   "metadata": {},
   "outputs": [],
   "source": [
    "#yymax=data1.max()\n",
    "#yymin=data1.min()\n",
    "yy=data1.iloc[:,num:]"
   ]
  },
  {
   "cell_type": "code",
   "execution_count": 101,
   "metadata": {},
   "outputs": [
    {
     "data": {
      "text/html": [
       "<div>\n",
       "<style scoped>\n",
       "    .dataframe tbody tr th:only-of-type {\n",
       "        vertical-align: middle;\n",
       "    }\n",
       "\n",
       "    .dataframe tbody tr th {\n",
       "        vertical-align: top;\n",
       "    }\n",
       "\n",
       "    .dataframe thead th {\n",
       "        text-align: right;\n",
       "    }\n",
       "</style>\n",
       "<table border=\"1\" class=\"dataframe\">\n",
       "  <thead>\n",
       "    <tr style=\"text-align: right;\">\n",
       "      <th></th>\n",
       "      <th>商品房施工面积（万平方米）</th>\n",
       "      <th>商品房竣工面积（万平方米）</th>\n",
       "      <th>房地产开发投资额（亿）</th>\n",
       "      <th>商品住宅销售面积（万平方米）</th>\n",
       "      <th>城镇居民人均可支配收入（元）</th>\n",
       "      <th>城镇化率</th>\n",
       "      <th>GDP（亿元）</th>\n",
       "      <th>利率</th>\n",
       "      <th>预测价格</th>\n",
       "    </tr>\n",
       "  </thead>\n",
       "  <tbody>\n",
       "    <tr>\n",
       "      <th>8</th>\n",
       "      <td>0.494408</td>\n",
       "      <td>0.446557</td>\n",
       "      <td>0.633346</td>\n",
       "      <td>0.710617</td>\n",
       "      <td>0.682829</td>\n",
       "      <td>0.767791</td>\n",
       "      <td>0.612551</td>\n",
       "      <td>0.536842</td>\n",
       "      <td>0.322317</td>\n",
       "    </tr>\n",
       "    <tr>\n",
       "      <th>9</th>\n",
       "      <td>0.714744</td>\n",
       "      <td>0.446584</td>\n",
       "      <td>0.795435</td>\n",
       "      <td>0.418637</td>\n",
       "      <td>0.742599</td>\n",
       "      <td>0.780343</td>\n",
       "      <td>0.684992</td>\n",
       "      <td>0.431579</td>\n",
       "      <td>0.365252</td>\n",
       "    </tr>\n",
       "    <tr>\n",
       "      <th>10</th>\n",
       "      <td>1.000000</td>\n",
       "      <td>1.000000</td>\n",
       "      <td>1.000000</td>\n",
       "      <td>0.414891</td>\n",
       "      <td>0.828399</td>\n",
       "      <td>0.782435</td>\n",
       "      <td>0.757938</td>\n",
       "      <td>0.000000</td>\n",
       "      <td>0.639035</td>\n",
       "    </tr>\n",
       "    <tr>\n",
       "      <th>11</th>\n",
       "      <td>0.957263</td>\n",
       "      <td>0.359921</td>\n",
       "      <td>0.893513</td>\n",
       "      <td>1.000000</td>\n",
       "      <td>0.914200</td>\n",
       "      <td>0.849378</td>\n",
       "      <td>0.860279</td>\n",
       "      <td>0.259298</td>\n",
       "      <td>0.831513</td>\n",
       "    </tr>\n",
       "    <tr>\n",
       "      <th>12</th>\n",
       "      <td>1.000000</td>\n",
       "      <td>1.000000</td>\n",
       "      <td>1.000000</td>\n",
       "      <td>0.414891</td>\n",
       "      <td>1.000000</td>\n",
       "      <td>1.000000</td>\n",
       "      <td>1.000000</td>\n",
       "      <td>0.000000</td>\n",
       "      <td>1.000000</td>\n",
       "    </tr>\n",
       "  </tbody>\n",
       "</table>\n",
       "</div>"
      ],
      "text/plain": [
       "    商品房施工面积（万平方米）  商品房竣工面积（万平方米）  房地产开发投资额（亿）  商品住宅销售面积（万平方米）  城镇居民人均可支配收入（元）  \\\n",
       "8        0.494408       0.446557     0.633346        0.710617        0.682829   \n",
       "9        0.714744       0.446584     0.795435        0.418637        0.742599   \n",
       "10       1.000000       1.000000     1.000000        0.414891        0.828399   \n",
       "11       0.957263       0.359921     0.893513        1.000000        0.914200   \n",
       "12       1.000000       1.000000     1.000000        0.414891        1.000000   \n",
       "\n",
       "        城镇化率   GDP（亿元）        利率      预测价格  \n",
       "8   0.767791  0.612551  0.536842  0.322317  \n",
       "9   0.780343  0.684992  0.431579  0.365252  \n",
       "10  0.782435  0.757938  0.000000  0.639035  \n",
       "11  0.849378  0.860279  0.259298  0.831513  \n",
       "12  1.000000  1.000000  0.000000  1.000000  "
      ]
     },
     "execution_count": 101,
     "metadata": {},
     "output_type": "execute_result"
    }
   ],
   "source": [
    "data2=(data1 - data1.min()) / (data1.max() - data1.min())\n",
    "data2.tail()"
   ]
  },
  {
   "cell_type": "code",
   "execution_count": 102,
   "metadata": {},
   "outputs": [],
   "source": [
    "X=data2.iloc[0:,0:num]\n",
    "y=data2.iloc[0:,num:num+1]"
   ]
  },
  {
   "cell_type": "code",
   "execution_count": 103,
   "metadata": {},
   "outputs": [
    {
     "name": "stdout",
     "output_type": "stream",
     "text": [
      "96\n",
      "8\n",
      "12\n",
      "1\n"
     ]
    }
   ],
   "source": [
    "long2=12\n",
    "X_train, X_test=X.iloc[0:long2],X.iloc[long2:]#列表的切片操作，X.iloc[0:2400，0:7]即为1-2400行，1-7列\n",
    "y_train, y_test=y.iloc[0:long2],y.iloc[long2:]\n",
    "print(X_train.size)#通过输出训练集测试集的大小来判断数据格式正确。\n",
    "print(X_test.size)\n",
    "print(y_train.size)\n",
    "print(y_test.size) "
   ]
  },
  {
   "cell_type": "code",
   "execution_count": 104,
   "metadata": {},
   "outputs": [],
   "source": [
    "X_train,X_test,y_train,y_test=X_train.values,X_test.values,y_train.values,y_test.values\n",
    "#X=X.values#将Pandas中的dataframe转成numpy中的array，（转化成数组）才能进行多元线性回归的计算\n",
    "#y=y.values"
   ]
  },
  {
   "cell_type": "code",
   "execution_count": 105,
   "metadata": {},
   "outputs": [
    {
     "name": "stdout",
     "output_type": "stream",
     "text": [
      "y_test [[1.]]\n",
      "y_predict [[0.80611593]]\n"
     ]
    }
   ],
   "source": [
    "#测试集概率对比\n",
    "from sklearn.linear_model import LinearRegression\n",
    "logit=LinearRegression()\n",
    "logit.fit(X_train, y_train)\n",
    "\n",
    "\n",
    "y_predict=logit.predict(X_test)\n",
    "print('y_test',y_test)\n",
    "print('y_predict',y_predict)"
   ]
  },
  {
   "cell_type": "code",
   "execution_count": 106,
   "metadata": {},
   "outputs": [
    {
     "data": {
      "text/plain": [
       "0.8061159334996312"
      ]
     },
     "execution_count": 106,
     "metadata": {},
     "output_type": "execute_result"
    }
   ],
   "source": [
    "y_predict[0,0]"
   ]
  },
  {
   "cell_type": "code",
   "execution_count": 107,
   "metadata": {},
   "outputs": [
    {
     "data": {
      "text/plain": [
       "预测价格    16159.660862\n",
       "dtype: float64"
      ]
     },
     "execution_count": 107,
     "metadata": {},
     "output_type": "execute_result"
    }
   ],
   "source": [
    "yyreal=y_predict[0,0]*(yy.max()-yy.min())+yy.min()\n",
    "yyreal"
   ]
  },
  {
   "cell_type": "code",
   "execution_count": 108,
   "metadata": {},
   "outputs": [
    {
     "data": {
      "text/plain": [
       "array([0.00277116])"
      ]
     },
     "execution_count": 108,
     "metadata": {},
     "output_type": "execute_result"
    }
   ],
   "source": [
    "logit.coef_[0]\n",
    "logit.intercept_"
   ]
  },
  {
   "cell_type": "code",
   "execution_count": 110,
   "metadata": {},
   "outputs": [
    {
     "data": {
      "text/plain": [
       "array([ 0.9880892 , -0.01790947, -0.89578017,  0.08264471, -0.17272726,\n",
       "       -0.1238541 ,  0.99123806, -0.10759872])"
      ]
     },
     "execution_count": 110,
     "metadata": {},
     "output_type": "execute_result"
    },
    {
     "data": {
      "image/png": "[encoded data removed]",
      "text/plain": [
       "<Figure size 432x288 with 1 Axes>"
      ]
     },
     "metadata": {},
     "output_type": "display_data"
    }
   ],
   "source": [
    "plt.plot(logit.coef_[0], 'o', label = 'linear regression')\n",
    "logit.coef_[0]"
   ]
  },
  {
   "cell_type": "code",
   "execution_count": null,
   "metadata": {},
   "outputs": [],
   "source": []
  }
 ],
 "metadata": {
  "kernelspec": {
   "display_name": "Python 3",
   "language": "python",
   "name": "python3"
  },
  "language_info": {
   "codemirror_mode": {
    "name": "ipython",
    "version": 3
   },
   "file_extension": ".py",
   "mimetype": "text/x-python",
   "name": "python",
   "nbconvert_exporter": "python",
   "pygments_lexer": "ipython3",
   "version": "3.7.3"
  }
 },
 "nbformat": 4,
 "nbformat_minor": 2
}
