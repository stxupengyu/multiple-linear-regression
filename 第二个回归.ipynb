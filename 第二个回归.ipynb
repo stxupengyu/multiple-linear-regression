{
 "cells": [
  {
   "cell_type": "code",
   "execution_count": 202,
   "metadata": {},
   "outputs": [
    {
     "name": "stderr",
     "output_type": "stream",
     "text": [
      "E:\\anoconda\\envs\\tensorflow\\lib\\site-packages\\pandas\\io\\excel.py:329: FutureWarning: The `sheetname` keyword is deprecated, use `sheet_name` instead\n",
      "  **kwds)\n"
     ]
    },
    {
     "data": {
      "text/html": [
       "<div>\n",
       "<style scoped>\n",
       "    .dataframe tbody tr th:only-of-type {\n",
       "        vertical-align: middle;\n",
       "    }\n",
       "\n",
       "    .dataframe tbody tr th {\n",
       "        vertical-align: top;\n",
       "    }\n",
       "\n",
       "    .dataframe thead th {\n",
       "        text-align: right;\n",
       "    }\n",
       "</style>\n",
       "<table border=\"1\" class=\"dataframe\">\n",
       "  <thead>\n",
       "    <tr style=\"text-align: right;\">\n",
       "      <th></th>\n",
       "      <th>年份</th>\n",
       "      <th>商品房施工面积（万平方米）</th>\n",
       "      <th>房地产开发投资额（亿）</th>\n",
       "      <th>城镇居民人均可支配收入（元）</th>\n",
       "      <th>城镇化率</th>\n",
       "      <th>GDP（亿元）</th>\n",
       "      <th>预测价格</th>\n",
       "    </tr>\n",
       "  </thead>\n",
       "  <tbody>\n",
       "    <tr>\n",
       "      <th>11</th>\n",
       "      <td>2016</td>\n",
       "      <td>4408.650000</td>\n",
       "      <td>642.760000</td>\n",
       "      <td>54628.616667</td>\n",
       "      <td>0.891400</td>\n",
       "      <td>6827.670000</td>\n",
       "      <td>16527</td>\n",
       "    </tr>\n",
       "    <tr>\n",
       "      <th>12</th>\n",
       "      <td>2017</td>\n",
       "      <td>4553.680000</td>\n",
       "      <td>702.150000</td>\n",
       "      <td>57608.133333</td>\n",
       "      <td>0.898600</td>\n",
       "      <td>7582.120000</td>\n",
       "      <td>18964</td>\n",
       "    </tr>\n",
       "    <tr>\n",
       "      <th>13</th>\n",
       "      <td>2018</td>\n",
       "      <td>4785.950385</td>\n",
       "      <td>755.764615</td>\n",
       "      <td>60587.650000</td>\n",
       "      <td>0.904405</td>\n",
       "      <td>7677.163846</td>\n",
       "      <td>1</td>\n",
       "    </tr>\n",
       "    <tr>\n",
       "      <th>14</th>\n",
       "      <td>2019</td>\n",
       "      <td>5086.335934</td>\n",
       "      <td>806.222857</td>\n",
       "      <td>63567.166667</td>\n",
       "      <td>0.908529</td>\n",
       "      <td>8098.388462</td>\n",
       "      <td>1</td>\n",
       "    </tr>\n",
       "    <tr>\n",
       "      <th>15</th>\n",
       "      <td>2020</td>\n",
       "      <td>5386.721484</td>\n",
       "      <td>856.681099</td>\n",
       "      <td>66546.683333</td>\n",
       "      <td>0.912653</td>\n",
       "      <td>8519.613077</td>\n",
       "      <td>1</td>\n",
       "    </tr>\n",
       "  </tbody>\n",
       "</table>\n",
       "</div>"
      ],
      "text/plain": [
       "      年份  商品房施工面积（万平方米）  房地产开发投资额（亿）  城镇居民人均可支配收入（元）      城镇化率      GDP（亿元）  \\\n",
       "11  2016    4408.650000   642.760000    54628.616667  0.891400  6827.670000   \n",
       "12  2017    4553.680000   702.150000    57608.133333  0.898600  7582.120000   \n",
       "13  2018    4785.950385   755.764615    60587.650000  0.904405  7677.163846   \n",
       "14  2019    5086.335934   806.222857    63567.166667  0.908529  8098.388462   \n",
       "15  2020    5386.721484   856.681099    66546.683333  0.912653  8519.613077   \n",
       "\n",
       "     预测价格  \n",
       "11  16527  \n",
       "12  18964  \n",
       "13      1  \n",
       "14      1  \n",
       "15      1  "
      ]
     },
     "execution_count": 202,
     "metadata": {},
     "output_type": "execute_result"
    }
   ],
   "source": [
    "#加载数据\n",
    "import numpy as np\n",
    "import pandas as pd\n",
    "import matplotlib.pyplot as plt\n",
    "from sklearn.linear_model import LinearRegression\n",
    "data=pd.read_excel('data_house.xlsx',sheetname= 'Sheet1')\n",
    "num=5\n",
    "data.tail()"
   ]
  },
  {
   "cell_type": "code",
   "execution_count": 203,
   "metadata": {},
   "outputs": [
    {
     "data": {
      "text/html": [
       "<div>\n",
       "<style scoped>\n",
       "    .dataframe tbody tr th:only-of-type {\n",
       "        vertical-align: middle;\n",
       "    }\n",
       "\n",
       "    .dataframe tbody tr th {\n",
       "        vertical-align: top;\n",
       "    }\n",
       "\n",
       "    .dataframe thead th {\n",
       "        text-align: right;\n",
       "    }\n",
       "</style>\n",
       "<table border=\"1\" class=\"dataframe\">\n",
       "  <thead>\n",
       "    <tr style=\"text-align: right;\">\n",
       "      <th></th>\n",
       "      <th>商品房施工面积（万平方米）</th>\n",
       "      <th>房地产开发投资额（亿）</th>\n",
       "      <th>城镇居民人均可支配收入（元）</th>\n",
       "      <th>城镇化率</th>\n",
       "      <th>GDP（亿元）</th>\n",
       "    </tr>\n",
       "  </thead>\n",
       "  <tbody>\n",
       "    <tr>\n",
       "      <th>11</th>\n",
       "      <td>4408.650000</td>\n",
       "      <td>642.760000</td>\n",
       "      <td>54628.616667</td>\n",
       "      <td>0.891400</td>\n",
       "      <td>6827.670000</td>\n",
       "    </tr>\n",
       "    <tr>\n",
       "      <th>12</th>\n",
       "      <td>4553.680000</td>\n",
       "      <td>702.150000</td>\n",
       "      <td>57608.133333</td>\n",
       "      <td>0.898600</td>\n",
       "      <td>7582.120000</td>\n",
       "    </tr>\n",
       "    <tr>\n",
       "      <th>13</th>\n",
       "      <td>4785.950385</td>\n",
       "      <td>755.764615</td>\n",
       "      <td>60587.650000</td>\n",
       "      <td>0.904405</td>\n",
       "      <td>7677.163846</td>\n",
       "    </tr>\n",
       "    <tr>\n",
       "      <th>14</th>\n",
       "      <td>5086.335934</td>\n",
       "      <td>806.222857</td>\n",
       "      <td>63567.166667</td>\n",
       "      <td>0.908529</td>\n",
       "      <td>8098.388462</td>\n",
       "    </tr>\n",
       "    <tr>\n",
       "      <th>15</th>\n",
       "      <td>5386.721484</td>\n",
       "      <td>856.681099</td>\n",
       "      <td>66546.683333</td>\n",
       "      <td>0.912653</td>\n",
       "      <td>8519.613077</td>\n",
       "    </tr>\n",
       "  </tbody>\n",
       "</table>\n",
       "</div>"
      ],
      "text/plain": [
       "    商品房施工面积（万平方米）  房地产开发投资额（亿）  城镇居民人均可支配收入（元）      城镇化率      GDP（亿元）\n",
       "11    4408.650000   642.760000    54628.616667  0.891400  6827.670000\n",
       "12    4553.680000   702.150000    57608.133333  0.898600  7582.120000\n",
       "13    4785.950385   755.764615    60587.650000  0.904405  7677.163846\n",
       "14    5086.335934   806.222857    63567.166667  0.908529  8098.388462\n",
       "15    5386.721484   856.681099    66546.683333  0.912653  8519.613077"
      ]
     },
     "execution_count": 203,
     "metadata": {},
     "output_type": "execute_result"
    }
   ],
   "source": [
    "X=data.iloc[0:,1:6]\n",
    "X.tail()"
   ]
  },
  {
   "cell_type": "code",
   "execution_count": 204,
   "metadata": {},
   "outputs": [
    {
     "data": {
      "text/html": [
       "<div>\n",
       "<style scoped>\n",
       "    .dataframe tbody tr th:only-of-type {\n",
       "        vertical-align: middle;\n",
       "    }\n",
       "\n",
       "    .dataframe tbody tr th {\n",
       "        vertical-align: top;\n",
       "    }\n",
       "\n",
       "    .dataframe thead th {\n",
       "        text-align: right;\n",
       "    }\n",
       "</style>\n",
       "<table border=\"1\" class=\"dataframe\">\n",
       "  <thead>\n",
       "    <tr style=\"text-align: right;\">\n",
       "      <th></th>\n",
       "      <th>预测价格</th>\n",
       "    </tr>\n",
       "  </thead>\n",
       "  <tbody>\n",
       "    <tr>\n",
       "      <th>8</th>\n",
       "      <td>9162</td>\n",
       "    </tr>\n",
       "    <tr>\n",
       "      <th>9</th>\n",
       "      <td>9783</td>\n",
       "    </tr>\n",
       "    <tr>\n",
       "      <th>10</th>\n",
       "      <td>13743</td>\n",
       "    </tr>\n",
       "    <tr>\n",
       "      <th>11</th>\n",
       "      <td>16527</td>\n",
       "    </tr>\n",
       "    <tr>\n",
       "      <th>12</th>\n",
       "      <td>18964</td>\n",
       "    </tr>\n",
       "  </tbody>\n",
       "</table>\n",
       "</div>"
      ],
      "text/plain": [
       "     预测价格\n",
       "8    9162\n",
       "9    9783\n",
       "10  13743\n",
       "11  16527\n",
       "12  18964"
      ]
     },
     "execution_count": 204,
     "metadata": {},
     "output_type": "execute_result"
    }
   ],
   "source": [
    "y=data.iloc[0:13,6:]\n",
    "y.tail()"
   ]
  },
  {
   "cell_type": "code",
   "execution_count": 205,
   "metadata": {},
   "outputs": [],
   "source": [
    "yy=y"
   ]
  },
  {
   "cell_type": "code",
   "execution_count": 206,
   "metadata": {},
   "outputs": [
    {
     "data": {
      "text/html": [
       "<div>\n",
       "<style scoped>\n",
       "    .dataframe tbody tr th:only-of-type {\n",
       "        vertical-align: middle;\n",
       "    }\n",
       "\n",
       "    .dataframe tbody tr th {\n",
       "        vertical-align: top;\n",
       "    }\n",
       "\n",
       "    .dataframe thead th {\n",
       "        text-align: right;\n",
       "    }\n",
       "</style>\n",
       "<table border=\"1\" class=\"dataframe\">\n",
       "  <thead>\n",
       "    <tr style=\"text-align: right;\">\n",
       "      <th></th>\n",
       "      <th>商品房施工面积（万平方米）</th>\n",
       "      <th>房地产开发投资额（亿）</th>\n",
       "      <th>城镇居民人均可支配收入（元）</th>\n",
       "      <th>城镇化率</th>\n",
       "      <th>GDP（亿元）</th>\n",
       "    </tr>\n",
       "  </thead>\n",
       "  <tbody>\n",
       "    <tr>\n",
       "      <th>11</th>\n",
       "      <td>0.768589</td>\n",
       "      <td>0.699655</td>\n",
       "      <td>0.727055</td>\n",
       "      <td>0.656408</td>\n",
       "      <td>0.733013</td>\n",
       "    </tr>\n",
       "    <tr>\n",
       "      <th>12</th>\n",
       "      <td>0.802903</td>\n",
       "      <td>0.783038</td>\n",
       "      <td>0.795291</td>\n",
       "      <td>0.772810</td>\n",
       "      <td>0.852064</td>\n",
       "    </tr>\n",
       "    <tr>\n",
       "      <th>13</th>\n",
       "      <td>0.857858</td>\n",
       "      <td>0.858313</td>\n",
       "      <td>0.863527</td>\n",
       "      <td>0.866667</td>\n",
       "      <td>0.867062</td>\n",
       "    </tr>\n",
       "    <tr>\n",
       "      <th>14</th>\n",
       "      <td>0.928929</td>\n",
       "      <td>0.929157</td>\n",
       "      <td>0.931764</td>\n",
       "      <td>0.933333</td>\n",
       "      <td>0.933531</td>\n",
       "    </tr>\n",
       "    <tr>\n",
       "      <th>15</th>\n",
       "      <td>1.000000</td>\n",
       "      <td>1.000000</td>\n",
       "      <td>1.000000</td>\n",
       "      <td>1.000000</td>\n",
       "      <td>1.000000</td>\n",
       "    </tr>\n",
       "  </tbody>\n",
       "</table>\n",
       "</div>"
      ],
      "text/plain": [
       "    商品房施工面积（万平方米）  房地产开发投资额（亿）  城镇居民人均可支配收入（元）      城镇化率   GDP（亿元）\n",
       "11       0.768589     0.699655        0.727055  0.656408  0.733013\n",
       "12       0.802903     0.783038        0.795291  0.772810  0.852064\n",
       "13       0.857858     0.858313        0.863527  0.866667  0.867062\n",
       "14       0.928929     0.929157        0.931764  0.933333  0.933531\n",
       "15       1.000000     1.000000        1.000000  1.000000  1.000000"
      ]
     },
     "execution_count": 206,
     "metadata": {},
     "output_type": "execute_result"
    }
   ],
   "source": [
    "X=(X - X.min()) / (X.max() - X.min())\n",
    "X.tail()"
   ]
  },
  {
   "cell_type": "code",
   "execution_count": 207,
   "metadata": {},
   "outputs": [
    {
     "data": {
      "text/html": [
       "<div>\n",
       "<style scoped>\n",
       "    .dataframe tbody tr th:only-of-type {\n",
       "        vertical-align: middle;\n",
       "    }\n",
       "\n",
       "    .dataframe tbody tr th {\n",
       "        vertical-align: top;\n",
       "    }\n",
       "\n",
       "    .dataframe thead th {\n",
       "        text-align: right;\n",
       "    }\n",
       "</style>\n",
       "<table border=\"1\" class=\"dataframe\">\n",
       "  <thead>\n",
       "    <tr style=\"text-align: right;\">\n",
       "      <th></th>\n",
       "      <th>预测价格</th>\n",
       "    </tr>\n",
       "  </thead>\n",
       "  <tbody>\n",
       "    <tr>\n",
       "      <th>8</th>\n",
       "      <td>0.322317</td>\n",
       "    </tr>\n",
       "    <tr>\n",
       "      <th>9</th>\n",
       "      <td>0.365252</td>\n",
       "    </tr>\n",
       "    <tr>\n",
       "      <th>10</th>\n",
       "      <td>0.639035</td>\n",
       "    </tr>\n",
       "    <tr>\n",
       "      <th>11</th>\n",
       "      <td>0.831513</td>\n",
       "    </tr>\n",
       "    <tr>\n",
       "      <th>12</th>\n",
       "      <td>1.000000</td>\n",
       "    </tr>\n",
       "  </tbody>\n",
       "</table>\n",
       "</div>"
      ],
      "text/plain": [
       "        预测价格\n",
       "8   0.322317\n",
       "9   0.365252\n",
       "10  0.639035\n",
       "11  0.831513\n",
       "12  1.000000"
      ]
     },
     "execution_count": 207,
     "metadata": {},
     "output_type": "execute_result"
    }
   ],
   "source": [
    "y=(y - y.min()) / (y.max() - y.min())\n",
    "y.tail()"
   ]
  },
  {
   "cell_type": "code",
   "execution_count": 208,
   "metadata": {},
   "outputs": [],
   "source": [
    "X_train=X.iloc[0:13,0:]"
   ]
  },
  {
   "cell_type": "code",
   "execution_count": 209,
   "metadata": {},
   "outputs": [],
   "source": [
    "y_train=y"
   ]
  },
  {
   "cell_type": "code",
   "execution_count": 210,
   "metadata": {},
   "outputs": [
    {
     "data": {
      "text/plain": [
       "LinearRegression(copy_X=True, fit_intercept=True, n_jobs=1, normalize=False)"
      ]
     },
     "execution_count": 210,
     "metadata": {},
     "output_type": "execute_result"
    }
   ],
   "source": [
    "#测试集概率对比\n",
    "from sklearn.linear_model import LinearRegression\n",
    "logit=LinearRegression()\n",
    "logit.fit(X_train, y_train)"
   ]
  },
  {
   "cell_type": "code",
   "execution_count": 211,
   "metadata": {},
   "outputs": [
    {
     "data": {
      "text/html": [
       "<div>\n",
       "<style scoped>\n",
       "    .dataframe tbody tr th:only-of-type {\n",
       "        vertical-align: middle;\n",
       "    }\n",
       "\n",
       "    .dataframe tbody tr th {\n",
       "        vertical-align: top;\n",
       "    }\n",
       "\n",
       "    .dataframe thead th {\n",
       "        text-align: right;\n",
       "    }\n",
       "</style>\n",
       "<table border=\"1\" class=\"dataframe\">\n",
       "  <thead>\n",
       "    <tr style=\"text-align: right;\">\n",
       "      <th></th>\n",
       "      <th>商品房施工面积（万平方米）</th>\n",
       "      <th>房地产开发投资额（亿）</th>\n",
       "      <th>城镇居民人均可支配收入（元）</th>\n",
       "      <th>城镇化率</th>\n",
       "      <th>GDP（亿元）</th>\n",
       "    </tr>\n",
       "  </thead>\n",
       "  <tbody>\n",
       "    <tr>\n",
       "      <th>13</th>\n",
       "      <td>0.857858</td>\n",
       "      <td>0.858313</td>\n",
       "      <td>0.863527</td>\n",
       "      <td>0.866667</td>\n",
       "      <td>0.867062</td>\n",
       "    </tr>\n",
       "    <tr>\n",
       "      <th>14</th>\n",
       "      <td>0.928929</td>\n",
       "      <td>0.929157</td>\n",
       "      <td>0.931764</td>\n",
       "      <td>0.933333</td>\n",
       "      <td>0.933531</td>\n",
       "    </tr>\n",
       "    <tr>\n",
       "      <th>15</th>\n",
       "      <td>1.000000</td>\n",
       "      <td>1.000000</td>\n",
       "      <td>1.000000</td>\n",
       "      <td>1.000000</td>\n",
       "      <td>1.000000</td>\n",
       "    </tr>\n",
       "  </tbody>\n",
       "</table>\n",
       "</div>"
      ],
      "text/plain": [
       "    商品房施工面积（万平方米）  房地产开发投资额（亿）  城镇居民人均可支配收入（元）      城镇化率   GDP（亿元）\n",
       "13       0.857858     0.858313        0.863527  0.866667  0.867062\n",
       "14       0.928929     0.929157        0.931764  0.933333  0.933531\n",
       "15       1.000000     1.000000        1.000000  1.000000  1.000000"
      ]
     },
     "execution_count": 211,
     "metadata": {},
     "output_type": "execute_result"
    }
   ],
   "source": [
    "X_test=X.iloc[13:,0:]\n",
    "X_test"
   ]
  },
  {
   "cell_type": "code",
   "execution_count": 212,
   "metadata": {},
   "outputs": [
    {
     "data": {
      "text/plain": [
       "array([0.84485803, 0.91594194, 0.98702585])"
      ]
     },
     "execution_count": 212,
     "metadata": {},
     "output_type": "execute_result"
    }
   ],
   "source": [
    "y_predict=logit.predict(X_test)[:,0]\n",
    "y_predict"
   ]
  },
  {
   "cell_type": "code",
   "execution_count": 213,
   "metadata": {},
   "outputs": [
    {
     "name": "stdout",
     "output_type": "stream",
     "text": [
      "predict2019: 预测价格    16720.026616\n",
      "dtype: float64\n",
      "predict2020: 预测价格    17748.184265\n",
      "dtype: float64\n",
      "predict2021: 预测价格    18776.341914\n",
      "dtype: float64\n"
     ]
    }
   ],
   "source": [
    "y2019=y_predict[0]*(yy.max()-yy.min())+yy.min()\n",
    "y2020=y_predict[1]*(yy.max()-yy.min())+yy.min()\n",
    "y2021=y_predict[2]*(yy.max()-yy.min())+yy.min()\n",
    "print('predict2019:',y2019)\n",
    "print('predict2020:',y2020)\n",
    "print('predict2021:',y2021)"
   ]
  },
  {
   "cell_type": "code",
   "execution_count": 216,
   "metadata": {},
   "outputs": [
    {
     "name": "stdout",
     "output_type": "stream",
     "text": [
      "系数 [ 1.57381267 -1.5463521  -0.60901394 -0.28575452  1.94658475]\n",
      "截距 [-0.092251]\n"
     ]
    }
   ],
   "source": [
    "print('系数',logit.coef_[0])\n",
    "print('截距',logit.intercept_)"
   ]
  },
  {
   "cell_type": "code",
   "execution_count": 215,
   "metadata": {},
   "outputs": [
    {
     "data": {
      "text/plain": [
       "array([ 1.57381267, -1.5463521 , -0.60901394, -0.28575452,  1.94658475])"
      ]
     },
     "execution_count": 215,
     "metadata": {},
     "output_type": "execute_result"
    },
    {
     "data": {
      "image/png": "[encoded data removed]",
      "text/plain": [
       "<Figure size 432x288 with 1 Axes>"
      ]
     },
     "metadata": {},
     "output_type": "display_data"
    }
   ],
   "source": [
    "plt.plot(logit.coef_[0], 'o', label = 'linear regression')\n",
    "logit.coef_[0]"
   ]
  },
  {
   "cell_type": "code",
   "execution_count": null,
   "metadata": {},
   "outputs": [],
   "source": []
  },
  {
   "cell_type": "code",
   "execution_count": null,
   "metadata": {},
   "outputs": [],
   "source": []
  }
 ],
 "metadata": {
  "kernelspec": {
   "display_name": "Python 3",
   "language": "python",
   "name": "python3"
  },
  "language_info": {
   "codemirror_mode": {
    "name": "ipython",
    "version": 3
   },
   "file_extension": ".py",
   "mimetype": "text/x-python",
   "name": "python",
   "nbconvert_exporter": "python",
   "pygments_lexer": "ipython3",
   "version": "3.7.3"
  }
 },
 "nbformat": 4,
 "nbformat_minor": 2
}
